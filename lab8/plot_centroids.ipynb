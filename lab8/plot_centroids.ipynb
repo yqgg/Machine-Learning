{
 "cells": [
  {
   "cell_type": "markdown",
   "metadata": {},
   "source": [
    "**Plot Centroids Example**  "
   ]
  },
  {
   "cell_type": "code",
   "execution_count": 1,
   "metadata": {},
   "outputs": [],
   "source": [
    "import numpy as np\n",
    "import matplotlib.pyplot as plt"
   ]
  },
  {
   "cell_type": "code",
   "execution_count": 2,
   "metadata": {},
   "outputs": [],
   "source": [
    "centroids = np.array([[0, 0, 0, 0, 0, 0, 0, 0, 0, 0, 0, 0, 0, 0, 0, 0, 0, 0, 0, 0, 0, 0, 0, 0, 0, 0, 0, 0, 0, 0, 0, 0, 0, 0, 0, 0, 0, 0, 0, 0, 0, 0, 0, 0, 0, 0, 0, 0, 0, 0, 0, 0, 0, 0, 0, 0, 0, 0, 0, 0, 0, 0, 0, 0, 0, 0, 0, 0, 0, 0, 0, 0, 0, 0, 0, 0, 0, 0, 0, 0, 0, 0, 0, 0, 0, 0, 0, 0, 0, 0, 0, 0, 0, 0, 0, 0, 0, 0, 2, 6, 6, 7, 7, 9, 8, 4, 0, 0, 0, 0, 0, 0, 0, 0, 0, 0, 0, 0, 0, 0, 0, 0, 0, 0, 3,13,32,58,77,94,99,91,86,61,36,17, 4, 0, 0, 0, 0, 0, 0, 0, 0, 0, 0, 0, 0, 0, 0, 3,17,38,79,121,167,189,188,166,140,108,59,35,12, 0, 0, 0, 0, 0, 0, 0, 0, 0, 0, 0, 1, 2, 4,18,43,85,146,194,216,215,215,204,167,128,77,39,13, 0, 0, 0, 0, 0, 0, 0, 0, 0, 0, 2, 2, 5,12,40,93,163,209,220,218,206,197,192,172,133,83,45,14, 0, 0, 0, 0, 0, 0, 0, 0, 0, 1, 2, 2, 9,38,86,160,212,222,206,178,157,151,158,158,131,85,46,15, 0, 0, 0, 0, 0, 0, 0, 0, 0, 0, 2, 3,23,78,164,209,227,206,161,127,106,113,142,159,137,94,50,14, 0, 0, 0, 0, 0, 0, 0, 0, 0, 0, 3,16,69,148,209,232,219,166,104,73,69,85,132,160,146,103,46,11, 0, 0, 0, 0, 0, 0, 0, 0, 0, 2,10,45,134,203,234,222,176,109,69,54,46,80,134,160,148,101,38, 8, 0, 1, 0, 0, 0, 0, 0, 0, 1, 5,30,109,196,231,226,175,114,73,50,49,57,94,142,171,150,88,33, 5, 0, 1, 0, 0, 0, 0, 0, 1, 3,17,77,169,220,223,182,119,63,41,35,43,60,112,163,182,149,77,27, 3, 0, 0, 0, 0, 0, 0, 0, 1,13,48,134,197,214,182,116,57,25,18,16,27,69,128,183,190,131,65,19, 0, 0, 0, 0, 0, 0, 0, 0, 3,31,88,164,207,192,131,62,25,14, 7,11,27,88,157,206,187,107,49,13, 0, 0, 0, 0, 0, 0, 0, 1,11,55,120,182,186,149,80,32,15, 8, 9,16,54,126,193,218,170,85,30, 4, 0, 0, 0, 0, 0, 0, 0, 2,28,91,147,181,165,113,51,17,10, 7,20,55,107,167,219,209,132,54,13, 3, 0, 0, 0, 0, 0, 0, 0, 3,41,108,163,182,148,86,45,21,23,34,64,109,165,221,226,166,80,23, 6, 1, 0, 0, 0, 0, 0, 0, 0, 3,46,117,174,187,149,96,70,59,64,90,133,180,222,228,181,100,37, 9, 3, 0, 0, 0, 0, 0, 0, 0, 0, 4,47,110,175,190,171,152,138,140,153,180,213,232,225,181,108,43,12, 6, 2, 0, 0, 0, 1, 0, 0, 0, 0, 2,32,93,151,203,215,225,223,221,229,237,233,211,166,99,44,10, 3, 2, 0, 0, 0, 0, 2, 0, 0, 0, 0, 0,15,58,106,155,198,225,236,235,230,209,171,122,71,30,11, 2, 0, 0, 0, 0, 0, 0, 1, 0, 0, 0, 0, 0, 2,14,35,64,107,144,162,160,135,97,66,32,15, 5, 2, 0, 0, 0, 0, 0, 0, 0, 0, 0, 0, 0, 0, 0, 0, 0, 0, 2, 2, 7,12,19,17,12, 6, 2, 2, 0, 0, 0, 0, 0, 0, 0, 0, 0, 0, 0, 0, 0, 0, 0, 0, 0, 0, 0, 0, 0, 2, 2, 2, 0, 0, 0, 0, 0, 0, 0, 0, 0, 0, 0, 0, 0, 0, 0, 0, 0, 0, 0, 0, 0, 0, 0, 0, 0, 0, 0, 0, 0, 0, 0, 0, 0, 0, 0, 0, 0, 0, 0, 0, 0, 0, 0, 0, 0, 0, 0, 0, 0, 0, 0, 0, 0, 0, 0, 0, 0, 0, 0, 0, 0, 0, 0, 0, 0, 0, 0, 0, 0, 0, 0], [0, 0, 0, 0, 0, 0, 0, 0, 0, 0, 0, 0, 0, 0, 0, 0, 0, 0, 0, 0, 0, 0, 0, 0, 0, 0, 0, 0, 0, 0, 0, 0, 0, 0, 0, 0, 0, 0, 0, 0, 0, 0, 0, 0, 0, 0, 0, 0, 0, 0, 0, 0, 0, 0, 0, 0, 0, 0, 0, 0, 0, 0, 0, 0, 0, 0, 0, 0, 0, 0, 0, 0, 0, 0, 0, 0, 0, 0, 0, 0, 0, 0, 0, 0, 0, 0, 0, 0, 0, 0, 0, 0, 0, 1, 1, 2, 4, 3, 2, 2, 2, 1, 0, 1, 0, 0, 0, 0, 0, 0, 0, 0, 0, 0, 0, 0, 0, 0, 0, 1, 5,10,24,37,47,55,58,57,48,32,21,16,11, 6, 4, 1, 0, 0, 0, 0, 0, 0, 0, 1, 2, 5,10,18,29,56,82,118,144,167,174,165,145,125,88,57,33,19,10, 5, 2, 0, 0, 0, 0, 0, 0, 0, 5,10,22,40,65,97,139,174,192,196,200,198,191,170,138,95,52,24,13, 7, 4, 0, 0, 0, 0, 0, 0, 1, 6,15,29,49,81,117,153,160,156,149,149,155,167,165,141,105,63,33,14, 6, 3, 1, 0, 0, 0, 0, 0, 2, 8,17,26,47,74,107,127,122,101,89,85,99,121,130,122,94,55,26,13, 5, 3, 1, 0, 0, 0, 0, 0, 1, 6,13,19,37,66,94,106,92,61,46,52,74,100,115,105,77,44,18,10, 3, 1, 0, 0, 0, 0, 0, 0, 1, 3, 8,15,32,58,85,97,83,62,61,74,96,114,112,89,62,35,12, 5, 1, 0, 0, 0, 0, 0, 0, 0, 0, 3, 6,13,27,49,80,101,103,105,114,126,137,130,106,74,50,25, 6, 3, 1, 0, 0, 0, 0, 0, 0, 0, 0, 1, 5,12,27,48,82,118,139,149,164,165,161,138,103,72,50,27, 9, 3, 1, 0, 0, 0, 0, 0, 0, 0, 0, 0, 3,10,28,53,81,122,150,169,177,174,166,149,120,88,63,40,12, 3, 1, 1, 0, 0, 0, 0, 0, 0, 0, 0, 0,10,24,47,71,102,132,155,161,158,157,154,142,120,93,59,24, 6, 1, 0, 0, 0, 0, 0, 0, 0, 0, 0, 0, 6,15,33,54,76,91,104,109,108,114,128,140,135,114,76,38,12, 1, 0, 0, 0, 0, 0, 0, 0, 0, 0, 2, 4,10,24,43,57,62,62,55,53,63,87,123,146,129,88,49,21, 3, 0, 0, 0, 0, 0, 0, 0, 0, 2, 5, 4,10,19,40,51,50,35,19,13,24,56,108,151,142,99,56,26, 9, 0, 0, 0, 0, 0, 0, 0, 0, 4, 9,12,18,25,41,53,42,24, 7, 4,15,50,105,154,150,103,58,28,10, 1, 0, 0, 0, 0, 0, 0, 1, 8,17,28,38,44,60,63,43,22, 9,11,28,76,130,166,151,99,54,23, 8, 0, 0, 0, 0, 0, 0, 0, 3,10,21,41,61,73,85,85,64,45,39,49,75,122,163,172,143,86,38,16, 5, 1, 0, 0, 0, 0, 0, 0, 4,11,21,46,76,100,130,145,133,116,108,119,147,175,184,158,115,61,23,10, 4, 1, 0, 0, 0, 0, 0, 0, 3, 7,16,33,64,97,133,171,191,194,190,193,195,188,162,119,71,33,12, 5, 1, 0, 0, 0, 0, 0, 0, 0, 1, 3, 8,19,35,59,95,134,171,192,196,188,168,136,94,55,26, 9, 5, 2, 1, 0, 0, 0, 0, 0, 0, 0, 0, 1, 4, 7,14,23,36,54,75,90,97,90,72,49,25, 9, 3, 2, 1, 0, 0, 0, 0, 0, 0, 0, 0, 0, 0, 0, 0, 1, 2, 2, 2, 3, 4, 5, 5, 5, 4, 2, 1, 0, 0, 0, 0, 0, 0, 0, 0, 0, 0, 0, 0, 0, 0, 0, 0, 0, 0, 0, 0, 0, 0, 0, 0, 0, 0, 0, 0, 0, 0, 0, 0, 0, 0, 0, 0, 0, 0, 0, 0, 0, 0, 0, 0, 0, 0, 0, 0, 0, 0, 0, 0, 0, 0, 0, 0, 0, 0, 0, 0, 0, 0, 0, 0, 0, 0]])"
   ]
  },
  {
   "cell_type": "code",
   "execution_count": 3,
   "metadata": {},
   "outputs": [],
   "source": [
    "def plot_centroids(centroids):\n",
    "    # compute size of plot\n",
    "    per_row = int(np.ceil(len(centroids)/2))\n",
    "    _, ax = plt.subplots(2, per_row, figsize = (2.25 * per_row, 5))\n",
    "\n",
    "    # reshape centroids to be 28 x 28\n",
    "    centers = centroids.reshape(len(centroids), 28, 28)\n",
    "\n",
    "    # plot each centroid\n",
    "    for i, (axi, center) in enumerate(zip(ax.flat, centers)):\n",
    "        axi.set_title(f'Centroid {i}')\n",
    "        axi.set(xticks=[], yticks=[])\n",
    "        axi.imshow(center, interpolation=\"nearest\", cmap=plt.cm.binary)\n",
    "    \n",
    "    # blank out extra plot if there is an odd number of centroids\n",
    "    if len(centroids) % 2 == 1:\n",
    "        ax.flat[-1].set(xticks=[], yticks=[])\n",
    "        ax.flat[-1].axis(\"off\")"
   ]
  },
  {
   "cell_type": "code",
   "execution_count": 4,
   "metadata": {},
   "outputs": [
    {
     "data": {
      "image/png": "[encoded data removed]",
      "text/plain": [
       "<Figure size 225x500 with 2 Axes>"
      ]
     },
     "metadata": {},
     "output_type": "display_data"
    }
   ],
   "source": [
    "plot_centroids(centroids)"
   ]
  }
 ],
 "metadata": {
  "kernelspec": {
   "display_name": "coen140",
   "language": "python",
   "name": "python3"
  },
  "language_info": {
   "codemirror_mode": {
    "name": "ipython",
    "version": 3
   },
   "file_extension": ".py",
   "mimetype": "text/x-python",
   "name": "python",
   "nbconvert_exporter": "python",
   "pygments_lexer": "ipython3",
   "version": "3.12.6"
  }
 },
 "nbformat": 4,
 "nbformat_minor": 2
}
