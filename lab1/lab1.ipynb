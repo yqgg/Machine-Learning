{
 "cells": [
  {
   "cell_type": "markdown",
   "metadata": {},
   "source": [
    "# Lab 1 Assignments\n",
    "### 1. Return list of odd nums [0..n]"
   ]
  },
  {
   "cell_type": "code",
   "execution_count": 2,
   "metadata": {},
   "outputs": [
    {
     "name": "stdout",
     "output_type": "stream",
     "text": [
      "[1, 3, 5, 7, 9, 11, 13, 15, 17]\n"
     ]
    }
   ],
   "source": [
    "def returnOdd(n):\n",
    "    return [i for i in range(n + 1) if i % 2 == 1]\n",
    "\n",
    "print(returnOdd(17))"
   ]
  },
  {
   "cell_type": "markdown",
   "metadata": {},
   "source": [
    "### 2. Sort the given CSV file"
   ]
  },
  {
   "cell_type": "code",
   "execution_count": 3,
   "metadata": {},
   "outputs": [
    {
     "name": "stdout",
     "output_type": "stream",
     "text": [
      "['Daniel', '21', 'MECH']\n",
      "['Joe', '23', 'BIOE']\n",
      "['Mike', '22', 'CSEN']\n",
      "['Ryan', '19', 'ELEN']\n",
      "['Shannon', '18', 'AMTH']\n"
     ]
    }
   ],
   "source": [
    "import csv\n",
    "\n",
    "def readcsv(filename):\n",
    "    with open(filename, mode='r') as file:\n",
    "        csv_read = csv.reader(file) #csv reader object\n",
    "        #sorted(csv_read)\n",
    "        sorted_csv = sorted(csv_read)\n",
    "        for row in sorted_csv:\n",
    "            print(row)\n",
    "\n",
    "readcsv('students.csv')"
   ]
  },
  {
   "cell_type": "markdown",
   "metadata": {},
   "source": [
    "### 3. Count Character Frequency"
   ]
  },
  {
   "cell_type": "code",
   "execution_count": 4,
   "metadata": {},
   "outputs": [
    {
     "name": "stdout",
     "output_type": "stream",
     "text": [
      "Character frequencies: \n",
      "{' ': 1, 'd': 1, 'e': 1, 'h': 1, 'l': 3, 'o': 2, 'r': 1, 'w': 1}\n",
      "\n",
      "Most frequent character:  l\n"
     ]
    }
   ],
   "source": [
    "import numpy as np\n",
    "\n",
    "def mostFreq(s):\n",
    "    #numpy unique() identifies unique values in a numpy array.\n",
    "    #return_counts is a parameter of unique(). If True, it returns the num of itmes each unique item appears in the np.array().\n",
    "    unique, count = np.unique(np.array(list(s)), return_counts=True)\n",
    "    \n",
    "    #zip() combines the input iterables into a single iterable of tuples, where each tuple contains one element from each input iterable.\n",
    "    all_freq = dict(zip(unique, count))\n",
    "\n",
    "    print(\"Character frequencies: \\n\" + str(all_freq) + \"\\n\")\n",
    "    \n",
    "    index_of_max = np.argmax(count)\n",
    "    return unique[index_of_max]\n",
    "\n",
    "print(\"Most frequent character: \", mostFreq(\"hello world\"))"
   ]
  },
  {
   "cell_type": "markdown",
   "metadata": {},
   "source": [
    "### 4. Import and use a function from math, time, or collections"
   ]
  },
  {
   "cell_type": "code",
   "execution_count": 7,
   "metadata": {},
   "outputs": [
    {
     "name": "stdout",
     "output_type": "stream",
     "text": [
      "10/10/2024, 14:30:19\n"
     ]
    }
   ],
   "source": [
    "import time\n",
    "\n",
    "named_tuple = time.localtime() # get struct_time\n",
    "time_string = time.strftime(\"%m/%d/%Y, %H:%M:%S\", named_tuple)\n",
    "\n",
    "print(time_string)"
   ]
  }
 ],
 "metadata": {
  "kernelspec": {
   "display_name": "base",
   "language": "python",
   "name": "python3"
  },
  "language_info": {
   "codemirror_mode": {
    "name": "ipython",
    "version": 3
   },
   "file_extension": ".py",
   "mimetype": "text/x-python",
   "name": "python",
   "nbconvert_exporter": "python",
   "pygments_lexer": "ipython3",
   "version": "3.12.4"
  }
 },
 "nbformat": 4,
 "nbformat_minor": 2
}
